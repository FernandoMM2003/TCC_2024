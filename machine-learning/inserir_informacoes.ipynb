{
 "cells": [
  {
   "cell_type": "code",
   "execution_count": 11,
   "metadata": {},
   "outputs": [],
   "source": [
    "def insert_covid_data(df, mycursor, mydb):\n",
    "\n",
    "    for row in df.itertuples(index=False):\n",
    "\n",
    "        mycursor.execute('''\n",
    "        INSERT INTO covid_data_total VALUES (%s, %s, %s, %s, %s, %s, %s, %s, %s, %s, %s, %s, %s, %s, %s, %s, %s, %s, %s, %s, %s, %s, %s, %s, %s, %s, %s, %s, %s)\n",
    "        ''', (\n",
    "            row.location, row.date, row.total_cases, row.new_cases,\n",
    "            row.total_deaths, row.new_deaths, row.reproduction_rate,\n",
    "            row.icu_patients, row.hosp_patients, row.total_tests,\n",
    "            row.new_tests, row.tests_per_case, row.total_vaccinations,\n",
    "            row.people_vaccinated, row.people_fully_vaccinated,\n",
    "            row.population_density, row.median_age, row.aged_65_older,\n",
    "            row.aged_70_older, row.gdp_per_capita, row.extreme_poverty,\n",
    "            row.handwashing_facilities, row.life_expectancy, row.population,\n",
    "            row.PCA1, row.PCA2, row.PCA3, row.PCA4, row.Cluster\n",
    "        ))\n",
    "\n",
    "        mydb.commit()\n",
    "        print(\"Inseri 1 registro\")"
   ]
  },
  {
   "cell_type": "code",
   "execution_count": 13,
   "metadata": {},
   "outputs": [
    {
     "ename": "KeyboardInterrupt",
     "evalue": "",
     "output_type": "error",
     "traceback": [
      "\u001b[1;31m---------------------------------------------------------------------------\u001b[0m",
      "\u001b[1;31mKeyboardInterrupt\u001b[0m                         Traceback (most recent call last)",
      "Cell \u001b[1;32mIn[13], line 17\u001b[0m\n\u001b[0;32m     15\u001b[0m     \u001b[38;5;28;01mif\u001b[39;00m mydb\u001b[38;5;241m.\u001b[39mis_connected():\n\u001b[0;32m     16\u001b[0m         mycursor \u001b[38;5;241m=\u001b[39m mydb\u001b[38;5;241m.\u001b[39mcursor()\n\u001b[1;32m---> 17\u001b[0m         \u001b[43minsert_covid_data\u001b[49m\u001b[43m(\u001b[49m\u001b[43mdf\u001b[49m\u001b[43m,\u001b[49m\u001b[43m \u001b[49m\u001b[43mmycursor\u001b[49m\u001b[43m,\u001b[49m\u001b[43m \u001b[49m\u001b[43mmydb\u001b[49m\u001b[43m)\u001b[49m         \n\u001b[0;32m     19\u001b[0m \u001b[38;5;28;01mexcept\u001b[39;00m mysql\u001b[38;5;241m.\u001b[39mconnector\u001b[38;5;241m.\u001b[39mError \u001b[38;5;28;01mas\u001b[39;00m e:\n\u001b[0;32m     20\u001b[0m     \u001b[38;5;28mprint\u001b[39m(\u001b[38;5;124m\"\u001b[39m\u001b[38;5;124mErro ao conectar com o MySQL\u001b[39m\u001b[38;5;124m\"\u001b[39m, e)\n",
      "Cell \u001b[1;32mIn[11], line 19\u001b[0m, in \u001b[0;36minsert_covid_data\u001b[1;34m(df, mycursor, mydb)\u001b[0m\n\u001b[0;32m      3\u001b[0m \u001b[38;5;28;01mfor\u001b[39;00m row \u001b[38;5;129;01min\u001b[39;00m df\u001b[38;5;241m.\u001b[39mitertuples(index\u001b[38;5;241m=\u001b[39m\u001b[38;5;28;01mFalse\u001b[39;00m):\n\u001b[0;32m      5\u001b[0m     mycursor\u001b[38;5;241m.\u001b[39mexecute(\u001b[38;5;124m'''\u001b[39m\n\u001b[0;32m      6\u001b[0m \u001b[38;5;124m    INSERT INTO covid_data_total VALUES (\u001b[39m\u001b[38;5;132;01m%s\u001b[39;00m\u001b[38;5;124m, \u001b[39m\u001b[38;5;132;01m%s\u001b[39;00m\u001b[38;5;124m, \u001b[39m\u001b[38;5;132;01m%s\u001b[39;00m\u001b[38;5;124m, \u001b[39m\u001b[38;5;132;01m%s\u001b[39;00m\u001b[38;5;124m, \u001b[39m\u001b[38;5;132;01m%s\u001b[39;00m\u001b[38;5;124m, \u001b[39m\u001b[38;5;132;01m%s\u001b[39;00m\u001b[38;5;124m, \u001b[39m\u001b[38;5;132;01m%s\u001b[39;00m\u001b[38;5;124m, \u001b[39m\u001b[38;5;132;01m%s\u001b[39;00m\u001b[38;5;124m, \u001b[39m\u001b[38;5;132;01m%s\u001b[39;00m\u001b[38;5;124m, \u001b[39m\u001b[38;5;132;01m%s\u001b[39;00m\u001b[38;5;124m, \u001b[39m\u001b[38;5;132;01m%s\u001b[39;00m\u001b[38;5;124m, \u001b[39m\u001b[38;5;132;01m%s\u001b[39;00m\u001b[38;5;124m, \u001b[39m\u001b[38;5;132;01m%s\u001b[39;00m\u001b[38;5;124m, \u001b[39m\u001b[38;5;132;01m%s\u001b[39;00m\u001b[38;5;124m, \u001b[39m\u001b[38;5;132;01m%s\u001b[39;00m\u001b[38;5;124m, \u001b[39m\u001b[38;5;132;01m%s\u001b[39;00m\u001b[38;5;124m, \u001b[39m\u001b[38;5;132;01m%s\u001b[39;00m\u001b[38;5;124m, \u001b[39m\u001b[38;5;132;01m%s\u001b[39;00m\u001b[38;5;124m, \u001b[39m\u001b[38;5;132;01m%s\u001b[39;00m\u001b[38;5;124m, \u001b[39m\u001b[38;5;132;01m%s\u001b[39;00m\u001b[38;5;124m, \u001b[39m\u001b[38;5;132;01m%s\u001b[39;00m\u001b[38;5;124m, \u001b[39m\u001b[38;5;132;01m%s\u001b[39;00m\u001b[38;5;124m, \u001b[39m\u001b[38;5;132;01m%s\u001b[39;00m\u001b[38;5;124m, \u001b[39m\u001b[38;5;132;01m%s\u001b[39;00m\u001b[38;5;124m, \u001b[39m\u001b[38;5;132;01m%s\u001b[39;00m\u001b[38;5;124m, \u001b[39m\u001b[38;5;132;01m%s\u001b[39;00m\u001b[38;5;124m, \u001b[39m\u001b[38;5;132;01m%s\u001b[39;00m\u001b[38;5;124m, \u001b[39m\u001b[38;5;132;01m%s\u001b[39;00m\u001b[38;5;124m, \u001b[39m\u001b[38;5;132;01m%s\u001b[39;00m\u001b[38;5;124m)\u001b[39m\n\u001b[0;32m      7\u001b[0m \u001b[38;5;124m    \u001b[39m\u001b[38;5;124m'''\u001b[39m, (\n\u001b[1;32m   (...)\u001b[0m\n\u001b[0;32m     16\u001b[0m         row\u001b[38;5;241m.\u001b[39mPCA1, row\u001b[38;5;241m.\u001b[39mPCA2, row\u001b[38;5;241m.\u001b[39mPCA3, row\u001b[38;5;241m.\u001b[39mPCA4, row\u001b[38;5;241m.\u001b[39mCluster\n\u001b[0;32m     17\u001b[0m     ))\n\u001b[1;32m---> 19\u001b[0m     mydb\u001b[38;5;241m.\u001b[39mcommit()\n",
      "\u001b[1;31mKeyboardInterrupt\u001b[0m: "
     ]
    }
   ],
   "source": [
    "import mysql.connector\n",
    "import pandas as pd\n",
    "\n",
    "# Carregar os dados\n",
    "df = pd.read_csv('../data/dados_com_clusters.csv')\n",
    "\n",
    "try:  \n",
    "    mydb = mysql.connector.connect(\n",
    "        user= \"admin\",\n",
    "        password= \"urubu100\",\n",
    "        host= \"database-anti-plague.cgqcdesyms89.us-east-1.rds.amazonaws.com\",\n",
    "        database= \"AntiPlague\"\n",
    "    )\n",
    "\n",
    "    if mydb.is_connected():\n",
    "        mycursor = mydb.cursor()\n",
    "        insert_covid_data(df, mycursor, mydb)         \n",
    "        \n",
    "except mysql.connector.Error as e:\n",
    "    print(\"Erro ao conectar com o MySQL\", e)\n",
    "finally:\n",
    "    if(mydb.is_connected()):\n",
    "        mycursor.close()\n",
    "        mydb.close()"
   ]
  }
 ],
 "metadata": {
  "kernelspec": {
   "display_name": "Python 3",
   "language": "python",
   "name": "python3"
  },
  "language_info": {
   "codemirror_mode": {
    "name": "ipython",
    "version": 3
   },
   "file_extension": ".py",
   "mimetype": "text/x-python",
   "name": "python",
   "nbconvert_exporter": "python",
   "pygments_lexer": "ipython3",
   "version": "3.11.2"
  }
 },
 "nbformat": 4,
 "nbformat_minor": 2
}
