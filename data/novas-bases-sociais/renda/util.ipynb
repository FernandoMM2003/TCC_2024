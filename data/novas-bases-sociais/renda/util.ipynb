{
 "cells": [
  {
   "cell_type": "code",
   "execution_count": 2,
   "metadata": {},
   "outputs": [],
   "source": [
    "import pandas as pd\n",
    "\n",
    "# Carregar o arquivo CSV\n",
    "df = pd.read_csv('renda-simplificada-todos-registros.csv', delimiter=';')\n",
    "\n",
    "# Remover as colunas 'region', 'gini', 'household_income'\n",
    "df = df.drop(columns=['region', 'gini', 'household_income'])\n",
    "\n",
    "# Renomear as colunas conforme solicitado\n",
    "df = df.rename(columns={\n",
    "    'name': 'Local',\n",
    "    'year': 'Ano',\n",
    "    'population': 'Populacao',\n",
    "    'Extreme poverty rate': 'Taxa de Extrema Pobreza'\n",
    "})\n",
    "\n",
    "# Trocar ',' por '.' na coluna 'Taxa de Extrema Pobreza'\n",
    "df['Taxa de Extrema Pobreza'] = df['Taxa de Extrema Pobreza'].str.replace(',', '.')\n",
    "\n",
    "# Salvar o resultado em um novo arquivo CSV com delimitador ','\n",
    "df.to_csv('taxa-extrema-pobreza.csv', index=False, sep=',')\n"
   ]
  }
 ],
 "metadata": {
  "kernelspec": {
   "display_name": "Python 3",
   "language": "python",
   "name": "python3"
  },
  "language_info": {
   "codemirror_mode": {
    "name": "ipython",
    "version": 3
   },
   "file_extension": ".py",
   "mimetype": "text/x-python",
   "name": "python",
   "nbconvert_exporter": "python",
   "pygments_lexer": "ipython3",
   "version": "3.11.2"
  }
 },
 "nbformat": 4,
 "nbformat_minor": 2
}
