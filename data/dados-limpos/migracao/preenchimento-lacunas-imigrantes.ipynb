{
 "cells": [
  {
   "cell_type": "markdown",
   "metadata": {},
   "source": [
    "Para preencher as lacunas no seu dataset de forma lógica, podemos usar a interpolação linear. A interpolação linear é uma técnica que estima novos valores dentro do intervalo de um conjunto de dados conhecido."
   ]
  },
  {
   "cell_type": "code",
   "execution_count": 9,
   "metadata": {},
   "outputs": [
    {
     "name": "stdout",
     "output_type": "stream",
     "text": [
      "Dados interpolados e salvos em 'imigrantes_interpolados.csv'\n"
     ]
    }
   ],
   "source": [
    "import pandas as pd\n",
    "import numpy as np\n",
    "\n",
    "# Carregar o dataset\n",
    "df = pd.read_csv('total-imigrantes.csv')\n",
    "\n",
    "# Criar um novo DataFrame para armazenar os dados interpolados\n",
    "new_df = pd.DataFrame()\n",
    "\n",
    "# Iterar sobre cada país\n",
    "for country in df['Local'].unique():\n",
    "    country_data = df[df['Local'] == country].set_index('Ano')\n",
    "    country_data = country_data.reindex(range(country_data.index.min(), country_data.index.max() + 1))\n",
    "    country_data['Local'] = country\n",
    "    country_data['Numero Total de Imigrantes'] = country_data['Numero Total de Imigrantes'].interpolate()\n",
    "    new_df = pd.concat([new_df, country_data.reset_index()])\n",
    "\n",
    "# Salvar o novo dataset\n",
    "new_df.to_csv('imigrantes_interpolados.csv', index=False)\n",
    "\n",
    "print(\"Dados interpolados e salvos em 'imigrantes_interpolados.csv'\")"
   ]
  },
  {
   "cell_type": "markdown",
   "metadata": {},
   "source": [
    "Explicação do Código\n",
    "\n",
    "Importação das Bibliotecas: Importamos as bibliotecas pandas e numpy para manipulação de dados.\n",
    "\n",
    "Carregamento do Dataset: Carregamos o dataset original usando pd.read_csv.\n",
    "\n",
    "Criação de um Novo DataFrame: Criamos um DataFrame vazio new_df para armazenar os dados interpolados.\n",
    "\n",
    "Iteração sobre Cada País: Iteramos sobre cada país no dataset original.\n",
    "\n",
    "Reindexação: Reindexamos os dados do país para incluir todos os anos no intervalo.\n",
    "\n",
    "Interpolação: Usamos a função interpolate para preencher as lacunas.\n",
    "\n",
    "Concatenação: Adicionamos os dados interpolados ao novo DataFrame.\n",
    "\n",
    "Salvamento do Novo Dataset: Salvamos o novo dataset interpolado em um arquivo CSV.\n",
    "\n",
    "Justificativa Lógica\n",
    "A interpolação linear é uma escolha lógica porque assume que as mudanças entre os pontos de dados conhecidos ocorrem de maneira linear. Isso é razoável para muitos tipos de dados, incluindo o número de imigrantes, onde as mudanças de ano para ano podem ser relativamente constantes.\n",
    "\n",
    "Se precisar de mais alguma coisa ou tiver dúvidas, estou aqui para ajudar!"
   ]
  }
 ],
 "metadata": {
  "kernelspec": {
   "display_name": "Python 3",
   "language": "python",
   "name": "python3"
  },
  "language_info": {
   "codemirror_mode": {
    "name": "ipython",
    "version": 3
   },
   "file_extension": ".py",
   "mimetype": "text/x-python",
   "name": "python",
   "nbconvert_exporter": "python",
   "pygments_lexer": "ipython3",
   "version": "3.11.2"
  }
 },
 "nbformat": 4,
 "nbformat_minor": 2
}
