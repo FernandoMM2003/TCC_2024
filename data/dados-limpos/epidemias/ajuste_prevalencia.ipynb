{
 "cells": [
  {
   "cell_type": "code",
   "execution_count": 13,
   "metadata": {},
   "outputs": [
    {
     "name": "stdout",
     "output_type": "stream",
     "text": [
      "Novo CSV com número de casos gerado com sucesso!\n"
     ]
    }
   ],
   "source": [
    "import pandas as pd\n",
    "\n",
    "# Carregar o dataset\n",
    "df = pd.read_csv('base_unificada.csv')\n",
    "\n",
    "# Função para converter a prevalência em decimal (remover % e transformar em número)\n",
    "def calcular_numero_de_casos(row):\n",
    "    try:\n",
    "        prevalencia_str = str(row['val']).replace('%', '').replace(',', '.').strip()\n",
    "        prevalencia = float(prevalencia_str)  # Converter prevalência para decimal\n",
    "        populacao = int(row['Populacao'])  # Garantir que a população seja um inteiro\n",
    "        numero_de_casos = prevalencia * populacao\n",
    "        return numero_de_casos\n",
    "    except (ValueError, TypeError):\n",
    "        return None  # Retorna None se houver erro na conversão\n",
    "\n",
    "# Aplicar a função linha a linha\n",
    "df['Numero de Casos'] = df.apply(calcular_numero_de_casos, axis=1)\n",
    "\n",
    "# Salvar o resultado em um novo CSV\n",
    "df.to_csv('base_unificada_com_casos.csv', index=False)\n",
    "\n",
    "print(\"Novo CSV com número de casos gerado com sucesso!\")\n"
   ]
  }
 ],
 "metadata": {
  "kernelspec": {
   "display_name": "Python 3",
   "language": "python",
   "name": "python3"
  },
  "language_info": {
   "codemirror_mode": {
    "name": "ipython",
    "version": 3
   },
   "file_extension": ".py",
   "mimetype": "text/x-python",
   "name": "python",
   "nbconvert_exporter": "python",
   "pygments_lexer": "ipython3",
   "version": "3.11.2"
  }
 },
 "nbformat": 4,
 "nbformat_minor": 2
}
